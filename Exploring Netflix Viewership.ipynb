{
 "cells": [
  {
   "cell_type": "markdown",
   "id": "70fe93ec",
   "metadata": {},
   "source": [
    "# A Data Driven Journey Through Netflix Viewership"
   ]
  },
  {
   "cell_type": "markdown",
   "id": "101563d6",
   "metadata": {},
   "source": [
    "#### Objective :\n",
    "With the use of python and python libraries: seaborn, matplotlib.pyplot, pandas and numpy I clean and extract viewer analytics. I uncover a number of patterns and trends through this project which previously were hidden. I seek to extract all the possible insights and figure out what amasses the most viewership"
   ]
  },
  {
   "cell_type": "markdown",
   "id": "9e4dbbbc",
   "metadata": {},
   "source": [
    "# Questions About Our Dataset"
   ]
  },
  {
   "cell_type": "markdown",
   "id": "c5f7b7f0",
   "metadata": {},
   "source": [
    "#### What does our csv file look like and can it read into a pandas dataframe?"
   ]
  },
  {
   "cell_type": "code",
   "execution_count": 3,
   "id": "826976c2",
   "metadata": {
    "scrolled": true
   },
   "outputs": [
    {
     "data": {
      "text/html": [
       "<div>\n",
       "<style scoped>\n",
       "    .dataframe tbody tr th:only-of-type {\n",
       "        vertical-align: middle;\n",
       "    }\n",
       "\n",
       "    .dataframe tbody tr th {\n",
       "        vertical-align: top;\n",
       "    }\n",
       "\n",
       "    .dataframe thead th {\n",
       "        text-align: right;\n",
       "    }\n",
       "</style>\n",
       "<table border=\"1\" class=\"dataframe\">\n",
       "  <thead>\n",
       "    <tr style=\"text-align: right;\">\n",
       "      <th></th>\n",
       "      <th>Title</th>\n",
       "      <th>Available Globally?</th>\n",
       "      <th>Release Date</th>\n",
       "      <th>Hours Viewed</th>\n",
       "      <th>Number of Ratings</th>\n",
       "      <th>Rating</th>\n",
       "      <th>Genre</th>\n",
       "      <th>Key Words</th>\n",
       "      <th>Description</th>\n",
       "    </tr>\n",
       "  </thead>\n",
       "  <tbody>\n",
       "    <tr>\n",
       "      <th>0</th>\n",
       "      <td>The Night Agent: Season 1</td>\n",
       "      <td>Yes</td>\n",
       "      <td>2023-03-23</td>\n",
       "      <td>812100000</td>\n",
       "      <td>7696.0</td>\n",
       "      <td>6.0</td>\n",
       "      <td>['Biography', 'Drama', 'History']</td>\n",
       "      <td>persian empire,empire,5th century b.c.,achaeme...</td>\n",
       "      <td>NaN</td>\n",
       "    </tr>\n",
       "    <tr>\n",
       "      <th>1</th>\n",
       "      <td>Ginny &amp; Georgia: Season 2</td>\n",
       "      <td>Yes</td>\n",
       "      <td>2023-01-05</td>\n",
       "      <td>665100000</td>\n",
       "      <td>5216.0</td>\n",
       "      <td>5.7</td>\n",
       "      <td>['Comedy', 'Drama', 'Romance']</td>\n",
       "      <td>producer,three word title,headstrong,arranged ...</td>\n",
       "      <td>The film follows headstrong Ginny who meets Su...</td>\n",
       "    </tr>\n",
       "    <tr>\n",
       "      <th>2</th>\n",
       "      <td>The Glory: Season 1 // 더 글로리: 시즌 1</td>\n",
       "      <td>Yes</td>\n",
       "      <td>2022-12-30</td>\n",
       "      <td>622800000</td>\n",
       "      <td>11869.0</td>\n",
       "      <td>8.4</td>\n",
       "      <td>['Short']</td>\n",
       "      <td>NaN</td>\n",
       "      <td>NaN</td>\n",
       "    </tr>\n",
       "    <tr>\n",
       "      <th>3</th>\n",
       "      <td>Wednesday: Season 1</td>\n",
       "      <td>Yes</td>\n",
       "      <td>2022-11-23</td>\n",
       "      <td>507700000</td>\n",
       "      <td>NaN</td>\n",
       "      <td>NaN</td>\n",
       "      <td>['Talk-Show']</td>\n",
       "      <td>youtube video</td>\n",
       "      <td>MsMojo counts down the top 10 Wednesday (2022)...</td>\n",
       "    </tr>\n",
       "    <tr>\n",
       "      <th>4</th>\n",
       "      <td>Queen Charlotte: A Bridgerton Story</td>\n",
       "      <td>Yes</td>\n",
       "      <td>2023-05-04</td>\n",
       "      <td>503000000</td>\n",
       "      <td>50077.0</td>\n",
       "      <td>7.4</td>\n",
       "      <td>['Drama', 'History', 'Romance']</td>\n",
       "      <td>prequel,queen,historical,england,queen charlot...</td>\n",
       "      <td>Betrothed against her will to King George, you...</td>\n",
       "    </tr>\n",
       "  </tbody>\n",
       "</table>\n",
       "</div>"
      ],
      "text/plain": [
       "                                 Title Available Globally? Release Date  \\\n",
       "0            The Night Agent: Season 1                 Yes   2023-03-23   \n",
       "1            Ginny & Georgia: Season 2                 Yes   2023-01-05   \n",
       "2   The Glory: Season 1 // 더 글로리: 시즌 1                 Yes   2022-12-30   \n",
       "3                  Wednesday: Season 1                 Yes   2022-11-23   \n",
       "4  Queen Charlotte: A Bridgerton Story                 Yes   2023-05-04   \n",
       "\n",
       "   Hours Viewed  Number of Ratings  Rating                              Genre  \\\n",
       "0     812100000             7696.0     6.0  ['Biography', 'Drama', 'History']   \n",
       "1     665100000             5216.0     5.7     ['Comedy', 'Drama', 'Romance']   \n",
       "2     622800000            11869.0     8.4                          ['Short']   \n",
       "3     507700000                NaN     NaN                      ['Talk-Show']   \n",
       "4     503000000            50077.0     7.4    ['Drama', 'History', 'Romance']   \n",
       "\n",
       "                                           Key Words  \\\n",
       "0  persian empire,empire,5th century b.c.,achaeme...   \n",
       "1  producer,three word title,headstrong,arranged ...   \n",
       "2                                                NaN   \n",
       "3                                      youtube video   \n",
       "4  prequel,queen,historical,england,queen charlot...   \n",
       "\n",
       "                                         Description  \n",
       "0                                                NaN  \n",
       "1  The film follows headstrong Ginny who meets Su...  \n",
       "2                                                NaN  \n",
       "3  MsMojo counts down the top 10 Wednesday (2022)...  \n",
       "4  Betrothed against her will to King George, you...  "
      ]
     },
     "execution_count": 3,
     "metadata": {},
     "output_type": "execute_result"
    }
   ],
   "source": [
    "import pandas as pd\n",
    "import matplotlib.pyplot as plt\n",
    "import numpy as np\n",
    "\n",
    "\n",
    "df = pd.read_csv('Netflix_Engagement.csv')\n",
    "\n",
    "df.head()"
   ]
  },
  {
   "cell_type": "markdown",
   "id": "57913cd4",
   "metadata": {},
   "source": [
    "#### How big is our data set?\n",
    "\n",
    "With +18,000 entries to analyze we are working with a moderate to big sized data set."
   ]
  },
  {
   "cell_type": "code",
   "execution_count": 4,
   "id": "17c03adc",
   "metadata": {
    "scrolled": true
   },
   "outputs": [
    {
     "data": {
      "text/plain": [
       "(18332, 9)"
      ]
     },
     "execution_count": 4,
     "metadata": {},
     "output_type": "execute_result"
    }
   ],
   "source": [
    "df.shape"
   ]
  },
  {
   "cell_type": "markdown",
   "id": "41aae848",
   "metadata": {},
   "source": [
    "#### What are the key attributes available for each show (e.g., title, genre, release date, duration, language)?"
   ]
  },
  {
   "cell_type": "code",
   "execution_count": 5,
   "id": "9059de74",
   "metadata": {
    "scrolled": true
   },
   "outputs": [
    {
     "data": {
      "text/plain": [
       "Title                   object\n",
       "Available Globally?     object\n",
       "Release Date            object\n",
       "Hours Viewed             int64\n",
       "Number of Ratings      float64\n",
       "Rating                 float64\n",
       "Genre                   object\n",
       "Key Words               object\n",
       "Description             object\n",
       "dtype: object"
      ]
     },
     "execution_count": 5,
     "metadata": {},
     "output_type": "execute_result"
    }
   ],
   "source": [
    "df.dtypes"
   ]
  },
  {
   "cell_type": "markdown",
   "id": "3ac5bc20",
   "metadata": {},
   "source": [
    "#### Unique values can play an integral part in making or breaking insights from the data. By finding the instances where there are unique values I infer a number of things:\n",
    "\n",
    "\n",
    "With only 1600 unique release dates spread across 20 years, it's unlikely that there are enough movies released on any single day to discern meaningful trends or patterns. Analyzing data at the daily level would result in sparse data points for each day, making it challenging to draw reliable conclusions or insights.\n",
    "\n",
    "Instead of analyzing data at the daily level, it's more practical to aggregate the data into larger time intervals, such as months. By grouping movies based on their release month, we can aggregate data points for each month over the 20-year period. This aggregation results in a more substantial amount of data for each time interval, allowing for more robust analysis and trend identification.\n",
    "\n",
    "How diverse and skewed is our data set?\n",
    "\n",
    "Given that there are 18,000 unique movie titles but only 90 unique ratings, it's logical to infer that multiple movies may have the same rating. This could imply that the ratings are clustered around a few common values, suggesting that viewers tend to rate movies similarly OR that the rating system may be limited in granularity.\n",
    "\n",
    "The +9000 unique key words can play an integral role in content based insights/recommendations. Each keyword in the dataset represents a specific aspect or characteristic of movies. These keywords can capture various elements such as genre, theme, setting, plot, mood, tone, style, and more. By categorizing keywords into multiple dimensions or attributes, you can derive deeper insights into content characteristics and audience preferences. For example, you can analyze which genres are most prevalent, which themes are trending, which settings are most popular, or which moods elicit the best viewer ratings. These insights can inform content strategy, recommendation algorithms, and marketing campaigns."
   ]
  },
  {
   "cell_type": "code",
   "execution_count": 6,
   "id": "a4ca0cdb",
   "metadata": {
    "scrolled": false
   },
   "outputs": [
    {
     "data": {
      "text/plain": [
       "Title                  18214\n",
       "Available Globally?        2\n",
       "Release Date            1665\n",
       "Hours Viewed             712\n",
       "Number of Ratings       7524\n",
       "Rating                    87\n",
       "Genre                    679\n",
       "Key Words               9687\n",
       "Description             8789\n",
       "dtype: int64"
      ]
     },
     "execution_count": 6,
     "metadata": {},
     "output_type": "execute_result"
    }
   ],
   "source": [
    "df.nunique()"
   ]
  },
  {
   "cell_type": "markdown",
   "id": "c8d3264b",
   "metadata": {},
   "source": [
    "#### Normalizing the hours viewed helps get a better understanding of scale for larger values.  Conceptualizing datasets with values ranging from hundreds of millions to thousands can be challenging and inconvenient for interpretation. By manually scaling the \"Hours Viewed\" attribute by a factor of 1 million, we achieve a more familiar and manageable scale for reference and comprehension. This process enables stakeholders to grasp the relative significance of each data point more effectively, facilitating clearer insights and decision-making.\n",
    "\n",
    "\n",
    "I added this specifially after encountering troubles graphing values with the 1e shit."
   ]
  },
  {
   "cell_type": "code",
   "execution_count": 7,
   "id": "98cc6dc0",
   "metadata": {
    "scrolled": true
   },
   "outputs": [
    {
     "data": {
      "text/html": [
       "<div>\n",
       "<style scoped>\n",
       "    .dataframe tbody tr th:only-of-type {\n",
       "        vertical-align: middle;\n",
       "    }\n",
       "\n",
       "    .dataframe tbody tr th {\n",
       "        vertical-align: top;\n",
       "    }\n",
       "\n",
       "    .dataframe thead th {\n",
       "        text-align: right;\n",
       "    }\n",
       "</style>\n",
       "<table border=\"1\" class=\"dataframe\">\n",
       "  <thead>\n",
       "    <tr style=\"text-align: right;\">\n",
       "      <th></th>\n",
       "      <th>Hours Viewed</th>\n",
       "      <th>Number of Ratings</th>\n",
       "      <th>Rating</th>\n",
       "    </tr>\n",
       "  </thead>\n",
       "  <tbody>\n",
       "    <tr>\n",
       "      <th>count</th>\n",
       "      <td>18332.000000</td>\n",
       "      <td>1.422200e+04</td>\n",
       "      <td>14222.000000</td>\n",
       "    </tr>\n",
       "    <tr>\n",
       "      <th>mean</th>\n",
       "      <td>5.120205</td>\n",
       "      <td>4.613511e+04</td>\n",
       "      <td>6.509056</td>\n",
       "    </tr>\n",
       "    <tr>\n",
       "      <th>std</th>\n",
       "      <td>18.671223</td>\n",
       "      <td>1.486087e+05</td>\n",
       "      <td>1.227839</td>\n",
       "    </tr>\n",
       "    <tr>\n",
       "      <th>min</th>\n",
       "      <td>0.100000</td>\n",
       "      <td>5.000000e+00</td>\n",
       "      <td>1.200000</td>\n",
       "    </tr>\n",
       "    <tr>\n",
       "      <th>25%</th>\n",
       "      <td>0.200000</td>\n",
       "      <td>3.432500e+02</td>\n",
       "      <td>5.800000</td>\n",
       "    </tr>\n",
       "    <tr>\n",
       "      <th>50%</th>\n",
       "      <td>0.700000</td>\n",
       "      <td>2.594000e+03</td>\n",
       "      <td>6.600000</td>\n",
       "    </tr>\n",
       "    <tr>\n",
       "      <th>75%</th>\n",
       "      <td>3.400000</td>\n",
       "      <td>1.935500e+04</td>\n",
       "      <td>7.300000</td>\n",
       "    </tr>\n",
       "    <tr>\n",
       "      <th>max</th>\n",
       "      <td>812.100000</td>\n",
       "      <td>2.829797e+06</td>\n",
       "      <td>10.000000</td>\n",
       "    </tr>\n",
       "  </tbody>\n",
       "</table>\n",
       "</div>"
      ],
      "text/plain": [
       "       Hours Viewed  Number of Ratings        Rating\n",
       "count  18332.000000       1.422200e+04  14222.000000\n",
       "mean       5.120205       4.613511e+04      6.509056\n",
       "std       18.671223       1.486087e+05      1.227839\n",
       "min        0.100000       5.000000e+00      1.200000\n",
       "25%        0.200000       3.432500e+02      5.800000\n",
       "50%        0.700000       2.594000e+03      6.600000\n",
       "75%        3.400000       1.935500e+04      7.300000\n",
       "max      812.100000       2.829797e+06     10.000000"
      ]
     },
     "execution_count": 7,
     "metadata": {},
     "output_type": "execute_result"
    }
   ],
   "source": [
    "df['Hours Viewed']= df['Hours Viewed'] / 1000000\n",
    "df.describe()"
   ]
  },
  {
   "cell_type": "markdown",
   "id": "7d3209ac",
   "metadata": {},
   "source": [
    "#### How complete and consistent is the metadata across the dataset?"
   ]
  },
  {
   "cell_type": "code",
   "execution_count": 8,
   "id": "469afdf6",
   "metadata": {
    "scrolled": true
   },
   "outputs": [
    {
     "data": {
      "text/plain": [
       "Title                  18332\n",
       "Available Globally?    18332\n",
       "Release Date            4879\n",
       "Hours Viewed           18332\n",
       "Number of Ratings      14222\n",
       "Rating                 14222\n",
       "Genre                  15761\n",
       "Key Words              12801\n",
       "Description            10619\n",
       "dtype: int64"
      ]
     },
     "execution_count": 8,
     "metadata": {},
     "output_type": "execute_result"
    }
   ],
   "source": [
    "not_null = df.notnull().sum()\n",
    "not_null_columns=[\"Title\",\"Available Globally?\",\"Release Date\",\"Hours Viewed\",\"Number of Ratings\",\"Rating\",\"Genre\",\"Key Words\",\"Description\"]\n",
    "\n",
    "not_null_records = not_null[not_null_columns]\n",
    "\n",
    "not_null_records"
   ]
  },
  {
   "cell_type": "code",
   "execution_count": 9,
   "id": "57619dff",
   "metadata": {
    "scrolled": true
   },
   "outputs": [
    {
     "data": {
      "text/plain": [
       "Title                      0\n",
       "Available Globally?        0\n",
       "Release Date           13453\n",
       "Hours Viewed               0\n",
       "Number of Ratings       4110\n",
       "Rating                  4110\n",
       "Genre                   2571\n",
       "Key Words               5531\n",
       "Description             7713\n",
       "dtype: int64"
      ]
     },
     "execution_count": 9,
     "metadata": {},
     "output_type": "execute_result"
    }
   ],
   "source": [
    "null_records = df.isnull().sum()\n",
    "null_records"
   ]
  },
  {
   "cell_type": "code",
   "execution_count": 10,
   "id": "61da275b",
   "metadata": {
    "scrolled": true
   },
   "outputs": [
    {
     "ename": "TypeError",
     "evalue": "bar() missing 1 required positional argument: 'height'",
     "output_type": "error",
     "traceback": [
      "\u001b[0;31m---------------------------------------------------------------------------\u001b[0m",
      "\u001b[0;31mTypeError\u001b[0m                                 Traceback (most recent call last)",
      "Cell \u001b[0;32mIn[10], line 2\u001b[0m\n\u001b[1;32m      1\u001b[0m \u001b[38;5;28;01mfor\u001b[39;00m index, column \u001b[38;5;129;01min\u001b[39;00m \u001b[38;5;28menumerate\u001b[39m(not_null_columns):\n\u001b[0;32m----> 2\u001b[0m     plt\u001b[38;5;241m.\u001b[39mbar(column)\n",
      "\u001b[0;31mTypeError\u001b[0m: bar() missing 1 required positional argument: 'height'"
     ]
    }
   ],
   "source": [
    "for index, column in enumerate(not_null_columns):\n",
    "    plt.bar(column)"
   ]
  },
  {
   "cell_type": "code",
   "execution_count": 11,
   "id": "487e6345",
   "metadata": {},
   "outputs": [
    {
     "data": {
      "image/png": "[encoded data removed]",
      "text/plain": [
       "<Figure size 1200x400 with 9 Axes>"
      ]
     },
     "metadata": {},
     "output_type": "display_data"
    }
   ],
   "source": [
    "fig, axes = plt.subplots(3,3,figsize=(12,4))\n",
    "\n",
    "\n"
   ]
  },
  {
   "cell_type": "code",
   "execution_count": 12,
   "id": "c3b9e0c7",
   "metadata": {},
   "outputs": [],
   "source": [
    "is_not_global = 'No'\n",
    "\n",
    "is_global = 'Yes'\n",
    "\n",
    "global_index = df['Available Globally?'] != is_not_global\n",
    "\n",
    "not_global_index = df['Available Globally?'] == is_not_global\n",
    "\n",
    "global_df = df[global_index]\n",
    "\n",
    "not_global_df = df[not_global_index]"
   ]
  },
  {
   "cell_type": "code",
   "execution_count": 13,
   "id": "b6abc91d",
   "metadata": {
    "scrolled": true
   },
   "outputs": [],
   "source": [
    "global_data=len(global_df)"
   ]
  },
  {
   "cell_type": "code",
   "execution_count": 14,
   "id": "0b0a14f6",
   "metadata": {
    "scrolled": true
   },
   "outputs": [],
   "source": [
    "not_global_data=len(not_global_df)"
   ]
  },
  {
   "cell_type": "code",
   "execution_count": 15,
   "id": "ab570e3a",
   "metadata": {},
   "outputs": [
    {
     "data": {
      "text/plain": [
       "([<matplotlib.patches.Wedge at 0x13eef5590>,\n",
       "  <matplotlib.patches.Wedge at 0x13f19c050>],\n",
       " [Text(0.7843214818420081, 0.7712585903062324, 'Global'),\n",
       "  Text(-0.7843215179472278, -0.7712585535894929, 'Not Global')])"
      ]
     },
     "execution_count": 15,
     "metadata": {},
     "output_type": "execute_result"
    },
    {
     "data": {
      "image/png": "[encoded data removed]",
      "text/plain": [
       "<Figure size 640x480 with 1 Axes>"
      ]
     },
     "metadata": {},
     "output_type": "display_data"
    }
   ],
   "source": [
    "plt.figure()\n",
    "\n",
    "plt.pie([global_data,not_global_data], labels=['Global','Not Global'],colors=['red','blue'])"
   ]
  },
  {
   "cell_type": "code",
   "execution_count": 16,
   "id": "c1c07952",
   "metadata": {
    "scrolled": true
   },
   "outputs": [
    {
     "data": {
      "text/plain": [
       "0        False\n",
       "1        False\n",
       "2        False\n",
       "3        False\n",
       "4        False\n",
       "         ...  \n",
       "18212    False\n",
       "18216    False\n",
       "18220    False\n",
       "18282    False\n",
       "18295    False\n",
       "Length: 4534, dtype: bool"
      ]
     },
     "execution_count": 16,
     "metadata": {},
     "output_type": "execute_result"
    }
   ],
   "source": [
    "global_df.duplicated()"
   ]
  },
  {
   "cell_type": "code",
   "execution_count": 17,
   "id": "d525895a",
   "metadata": {},
   "outputs": [
    {
     "data": {
      "text/plain": [
       "52"
      ]
     },
     "execution_count": 17,
     "metadata": {},
     "output_type": "execute_result"
    }
   ],
   "source": [
    "not_global_df.duplicated().sum()"
   ]
  },
  {
   "cell_type": "code",
   "execution_count": 18,
   "id": "a2c32337",
   "metadata": {},
   "outputs": [
    {
     "data": {
      "text/plain": [
       "0"
      ]
     },
     "execution_count": 18,
     "metadata": {},
     "output_type": "execute_result"
    }
   ],
   "source": [
    "rld_index = global_df['Release Date'].isnull() != True \n",
    "\n",
    "global_df = global_df[rld_index]\n",
    "\n",
    "global_df['Release Date'].isnull().sum()"
   ]
  },
  {
   "cell_type": "code",
   "execution_count": 19,
   "id": "5933d05a",
   "metadata": {},
   "outputs": [
    {
     "data": {
      "text/plain": [
       "False"
      ]
     },
     "execution_count": 19,
     "metadata": {},
     "output_type": "execute_result"
    }
   ],
   "source": [
    "global_df['Release Date'] = pd.to_datetime(global_df['Release Date'])\n",
    "\n",
    "global_df['Release Date'].isnull().any()"
   ]
  },
  {
   "cell_type": "code",
   "execution_count": 20,
   "id": "63ab2791",
   "metadata": {
    "scrolled": true
   },
   "outputs": [
    {
     "data": {
      "text/plain": [
       "<function matplotlib.pyplot.show(close=None, block=None)>"
      ]
     },
     "execution_count": 20,
     "metadata": {},
     "output_type": "execute_result"
    },
    {
     "data": {
      "image/png": "[encoded data removed]",
      "text/plain": [
       "<Figure size 640x480 with 1 Axes>"
      ]
     },
     "metadata": {},
     "output_type": "display_data"
    }
   ],
   "source": [
    "plt.figure()\n",
    "plt.scatter(global_df['Release Date'],global_df['Hours Viewed'], marker='o')\n",
    "plt.show"
   ]
  },
  {
   "cell_type": "code",
   "execution_count": 21,
   "id": "db64da11",
   "metadata": {
    "scrolled": true
   },
   "outputs": [
    {
     "data": {
      "text/plain": [
       "0         3\n",
       "1         1\n",
       "2        12\n",
       "3        11\n",
       "4         5\n",
       "         ..\n",
       "18212     6\n",
       "18216     7\n",
       "18220     9\n",
       "18282     4\n",
       "18295     8\n",
       "Name: Release Date, Length: 3932, dtype: int32"
      ]
     },
     "execution_count": 21,
     "metadata": {},
     "output_type": "execute_result"
    }
   ],
   "source": [
    "global_df['Release Date'].dt.month"
   ]
  },
  {
   "cell_type": "code",
   "execution_count": 22,
   "id": "a38c0759",
   "metadata": {},
   "outputs": [
    {
     "data": {
      "text/plain": [
       "Month\n",
       "January      16.389437\n",
       "February     16.894718\n",
       "March        15.116667\n",
       "April        13.838580\n",
       "May          13.227986\n",
       "June         10.950307\n",
       "July          7.877740\n",
       "August        6.389869\n",
       "September     6.724286\n",
       "October       7.688550\n",
       "November      8.094780\n",
       "December     14.298446\n",
       "Name: Hours Viewed, dtype: float64"
      ]
     },
     "execution_count": 22,
     "metadata": {},
     "output_type": "execute_result"
    }
   ],
   "source": [
    "global_df['Month']= global_df['Release Date'].dt.month_name()\n",
    "global_monthly_df = global_df.groupby('Month')['Hours Viewed'].mean()\n",
    "\n",
    "index = ['January','February','March','April','May','June','July','August','September','October','November','December']\n",
    "global_monthly_df = global_monthly_df.reindex(index)\n",
    "\n",
    "global_monthly_df "
   ]
  },
  {
   "cell_type": "code",
   "execution_count": 23,
   "id": "5e28bf99",
   "metadata": {
    "scrolled": true
   },
   "outputs": [
    {
     "data": {
      "text/plain": [
       "<BarContainer object of 12 artists>"
      ]
     },
     "execution_count": 23,
     "metadata": {},
     "output_type": "execute_result"
    },
    {
     "data": {
      "image/png": "[encoded data removed]",
      "text/plain": [
       "<Figure size 1200x600 with 1 Axes>"
      ]
     },
     "metadata": {},
     "output_type": "display_data"
    }
   ],
   "source": [
    "plt.figure(figsize=(12, 6))\n",
    "plt.bar(index, global_monthly_df, color='green')"
   ]
  },
  {
   "cell_type": "code",
   "execution_count": 24,
   "id": "b38d6ee2",
   "metadata": {},
   "outputs": [
    {
     "data": {
      "text/plain": [
       "[<matplotlib.lines.Line2D at 0x13f246390>]"
      ]
     },
     "execution_count": 24,
     "metadata": {},
     "output_type": "execute_result"
    },
    {
     "data": {
      "image/png": "[encoded data removed]",
      "text/plain": [
       "<Figure size 1200x600 with 1 Axes>"
      ]
     },
     "metadata": {},
     "output_type": "display_data"
    }
   ],
   "source": [
    "viewer_growth = global_monthly_df/global_monthly_df.iloc[0]\n",
    "plt.figure(figsize=(12,6))\n",
    "plt.plot(viewer_growth)"
   ]
  },
  {
   "cell_type": "code",
   "execution_count": 25,
   "id": "bf322fbe",
   "metadata": {
    "scrolled": true
   },
   "outputs": [
    {
     "data": {
      "text/plain": [
       "<matplotlib.collections.PathCollection at 0x13f319750>"
      ]
     },
     "execution_count": 25,
     "metadata": {},
     "output_type": "execute_result"
    },
    {
     "data": {
      "image/png": "[encoded data removed]",
      "text/plain": [
       "<Figure size 640x480 with 1 Axes>"
      ]
     },
     "metadata": {},
     "output_type": "display_data"
    }
   ],
   "source": [
    "top_global_df = global_df[global_df['Number of Ratings'] > 100000]\n",
    "top_global_df = top_global_df.sort_values('Number of Ratings', ascending=False)\n",
    "top_global_df = top_global_df.sort_values('Hours Viewed', ascending=True).head(150)\n",
    "plt.figure()\n",
    "plt.scatter(top_global_df['Hours Viewed'],top_global_df['Number of Ratings'])"
   ]
  },
  {
   "cell_type": "code",
   "execution_count": 26,
   "id": "7fa70793",
   "metadata": {},
   "outputs": [],
   "source": [
    "#find what is the produces the most hours viewed and number of ratings "
   ]
  },
  {
   "cell_type": "code",
   "execution_count": null,
   "id": "0d126eec",
   "metadata": {},
   "outputs": [],
   "source": []
  }
 ],
 "metadata": {
  "kernelspec": {
   "display_name": "Python 3 (ipykernel)",
   "language": "python",
   "name": "python3"
  },
  "language_info": {
   "codemirror_mode": {
    "name": "ipython",
    "version": 3
   },
   "file_extension": ".py",
   "mimetype": "text/x-python",
   "name": "python",
   "nbconvert_exporter": "python",
   "pygments_lexer": "ipython3",
   "version": "3.11.5"
  }
 },
 "nbformat": 4,
 "nbformat_minor": 5
}
